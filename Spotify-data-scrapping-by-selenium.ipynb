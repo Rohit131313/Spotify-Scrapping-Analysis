{
 "cells": [
  {
   "cell_type": "markdown",
   "id": "096f49fe",
   "metadata": {},
   "source": [
    "# Spotify Website Data Scraping Using Selenium"
   ]
  },
  {
   "cell_type": "code",
   "execution_count": 1,
   "id": "a017475b",
   "metadata": {
    "scrolled": true
   },
   "outputs": [
    {
     "name": "stdout",
     "output_type": "stream",
     "text": [
      "Requirement already satisfied: selenium in d:\\anaconda\\lib\\site-packages (4.15.2)\n",
      "Requirement already satisfied: urllib3[socks]<3,>=1.26 in d:\\anaconda\\lib\\site-packages (from selenium) (1.26.16)\n",
      "Requirement already satisfied: trio~=0.17 in d:\\anaconda\\lib\\site-packages (from selenium) (0.23.1)\n",
      "Requirement already satisfied: trio-websocket~=0.9 in d:\\anaconda\\lib\\site-packages (from selenium) (0.11.1)\n",
      "Requirement already satisfied: certifi>=2021.10.8 in d:\\anaconda\\lib\\site-packages (from selenium) (2023.7.22)\n",
      "Requirement already satisfied: attrs>=20.1.0 in d:\\anaconda\\lib\\site-packages (from trio~=0.17->selenium) (22.1.0)\n",
      "Requirement already satisfied: sortedcontainers in d:\\anaconda\\lib\\site-packages (from trio~=0.17->selenium) (2.4.0)\n",
      "Requirement already satisfied: idna in d:\\anaconda\\lib\\site-packages (from trio~=0.17->selenium) (3.4)\n",
      "Requirement already satisfied: outcome in d:\\anaconda\\lib\\site-packages (from trio~=0.17->selenium) (1.3.0.post0)\n",
      "Requirement already satisfied: sniffio>=1.3.0 in d:\\anaconda\\lib\\site-packages (from trio~=0.17->selenium) (1.3.0)\n",
      "Requirement already satisfied: cffi>=1.14 in d:\\anaconda\\lib\\site-packages (from trio~=0.17->selenium) (1.15.1)\n",
      "Requirement already satisfied: wsproto>=0.14 in d:\\anaconda\\lib\\site-packages (from trio-websocket~=0.9->selenium) (1.2.0)\n",
      "Requirement already satisfied: PySocks!=1.5.7,<2.0,>=1.5.6 in d:\\anaconda\\lib\\site-packages (from urllib3[socks]<3,>=1.26->selenium) (1.7.1)\n",
      "Requirement already satisfied: pycparser in d:\\anaconda\\lib\\site-packages (from cffi>=1.14->trio~=0.17->selenium) (2.21)\n",
      "Requirement already satisfied: h11<1,>=0.9.0 in d:\\anaconda\\lib\\site-packages (from wsproto>=0.14->trio-websocket~=0.9->selenium) (0.14.0)\n",
      "Note: you may need to restart the kernel to use updated packages.\n"
     ]
    }
   ],
   "source": [
    "pip install selenium "
   ]
  },
  {
   "cell_type": "code",
   "execution_count": 2,
   "id": "045891d9",
   "metadata": {},
   "outputs": [],
   "source": [
    "from selenium import webdriver \n",
    "from selenium.webdriver.chrome.options import Options \n",
    "\n",
    "options = Options()\n",
    "options.add_argument('--headless=new') # to use headless browser\n",
    "\n",
    "# initialize an instance of the chrome driver (browser)\n",
    "driver = webdriver.Chrome(\n",
    "    options=options,\n",
    ")\n",
    "\n",
    "# visit your target site\n",
    "driver.get('https://open.spotify.com/')"
   ]
  },
  {
   "cell_type": "code",
   "execution_count": 3,
   "id": "39b0ce3b",
   "metadata": {},
   "outputs": [],
   "source": [
    "from selenium.webdriver.common.by import By\n",
    "\n",
    "# Fetch  the links of playlist present in home page\n",
    "links = driver.find_elements(By.CLASS_NAME, 'Nqa6Cw3RkDMV8QnYreTr')"
   ]
  },
  {
   "cell_type": "code",
   "execution_count": 4,
   "id": "3f02506e",
   "metadata": {},
   "outputs": [
    {
     "data": {
      "text/plain": [
       "[<selenium.webdriver.remote.webelement.WebElement (session=\"0b833ceeb0609acca0525affd0788727\", element=\"DEAE50AB64EA7190CF5804715122055A_element_53\")>,\n",
       " <selenium.webdriver.remote.webelement.WebElement (session=\"0b833ceeb0609acca0525affd0788727\", element=\"DEAE50AB64EA7190CF5804715122055A_element_54\")>,\n",
       " <selenium.webdriver.remote.webelement.WebElement (session=\"0b833ceeb0609acca0525affd0788727\", element=\"DEAE50AB64EA7190CF5804715122055A_element_55\")>,\n",
       " <selenium.webdriver.remote.webelement.WebElement (session=\"0b833ceeb0609acca0525affd0788727\", element=\"DEAE50AB64EA7190CF5804715122055A_element_56\")>,\n",
       " <selenium.webdriver.remote.webelement.WebElement (session=\"0b833ceeb0609acca0525affd0788727\", element=\"DEAE50AB64EA7190CF5804715122055A_element_57\")>,\n",
       " <selenium.webdriver.remote.webelement.WebElement (session=\"0b833ceeb0609acca0525affd0788727\", element=\"DEAE50AB64EA7190CF5804715122055A_element_58\")>]"
      ]
     },
     "execution_count": 4,
     "metadata": {},
     "output_type": "execute_result"
    }
   ],
   "source": [
    "links"
   ]
  },
  {
   "cell_type": "code",
   "execution_count": 5,
   "id": "2461159b",
   "metadata": {},
   "outputs": [],
   "source": [
    "links_list = []\n",
    "for link in links:\n",
    "            links_list.append(link.get_attribute(\"href\"))\n",
    "        "
   ]
  },
  {
   "cell_type": "code",
   "execution_count": 6,
   "id": "49729f4b",
   "metadata": {},
   "outputs": [
    {
     "data": {
      "text/plain": [
       "['https://open.spotify.com/playlist/37i9dQZF1DXcBWIGoYBM5M',\n",
       " 'https://open.spotify.com/playlist/37i9dQZF1DXdLK5wjKyhVm',\n",
       " 'https://open.spotify.com/playlist/37i9dQZF1DWV7EzJMK2FUI',\n",
       " 'https://open.spotify.com/playlist/37i9dQZF1DXaImRpG7HXqp',\n",
       " 'https://open.spotify.com/playlist/37i9dQZF1DWZd79rJ6a7lp',\n",
       " 'https://open.spotify.com/playlist/37i9dQZF1DXdbkmlag2h7b']"
      ]
     },
     "execution_count": 6,
     "metadata": {},
     "output_type": "execute_result"
    }
   ],
   "source": [
    "links_list"
   ]
  },
  {
   "cell_type": "code",
   "execution_count": 7,
   "id": "15de21c3",
   "metadata": {},
   "outputs": [],
   "source": [
    "from selenium.webdriver.support.ui import WebDriverWait\n",
    "from selenium.webdriver.support import expected_conditions as EC\n",
    "\n",
    "# Initialize an instance of the Chrome driver (browser)\n",
    "driver1 = webdriver.Chrome(options=options)\n",
    "\n",
    "# Visit the first playlist link\n",
    "driver1.get(links_list[0])\n",
    "\n",
    "# Wait for the songs to be present on the page\n",
    "element = WebDriverWait(driver,10).until(\n",
    "    EC.presence_of_element_located((By.ID, 'main'))\n",
    ")\n"
   ]
  },
  {
   "cell_type": "code",
   "execution_count": 8,
   "id": "b9515bd0",
   "metadata": {},
   "outputs": [],
   "source": [
    "# Extract songs from the playlist page\n",
    "songs = driver1.find_elements(By.XPATH, '//a[@class=\"t_yrXoUO3qGsJS4Y6iXX\"]/div')"
   ]
  },
  {
   "cell_type": "code",
   "execution_count": 9,
   "id": "25a1ea51",
   "metadata": {},
   "outputs": [
    {
     "data": {
      "text/plain": [
       "[<selenium.webdriver.remote.webelement.WebElement (session=\"6409b3b03fa8c352f647964a27027d8c\", element=\"2D4F2D574277F61E1DEBA07D6CED4024_element_25\")>,\n",
       " <selenium.webdriver.remote.webelement.WebElement (session=\"6409b3b03fa8c352f647964a27027d8c\", element=\"2D4F2D574277F61E1DEBA07D6CED4024_element_26\")>,\n",
       " <selenium.webdriver.remote.webelement.WebElement (session=\"6409b3b03fa8c352f647964a27027d8c\", element=\"2D4F2D574277F61E1DEBA07D6CED4024_element_27\")>,\n",
       " <selenium.webdriver.remote.webelement.WebElement (session=\"6409b3b03fa8c352f647964a27027d8c\", element=\"2D4F2D574277F61E1DEBA07D6CED4024_element_28\")>,\n",
       " <selenium.webdriver.remote.webelement.WebElement (session=\"6409b3b03fa8c352f647964a27027d8c\", element=\"2D4F2D574277F61E1DEBA07D6CED4024_element_29\")>,\n",
       " <selenium.webdriver.remote.webelement.WebElement (session=\"6409b3b03fa8c352f647964a27027d8c\", element=\"2D4F2D574277F61E1DEBA07D6CED4024_element_30\")>,\n",
       " <selenium.webdriver.remote.webelement.WebElement (session=\"6409b3b03fa8c352f647964a27027d8c\", element=\"2D4F2D574277F61E1DEBA07D6CED4024_element_31\")>,\n",
       " <selenium.webdriver.remote.webelement.WebElement (session=\"6409b3b03fa8c352f647964a27027d8c\", element=\"2D4F2D574277F61E1DEBA07D6CED4024_element_32\")>,\n",
       " <selenium.webdriver.remote.webelement.WebElement (session=\"6409b3b03fa8c352f647964a27027d8c\", element=\"2D4F2D574277F61E1DEBA07D6CED4024_element_33\")>,\n",
       " <selenium.webdriver.remote.webelement.WebElement (session=\"6409b3b03fa8c352f647964a27027d8c\", element=\"2D4F2D574277F61E1DEBA07D6CED4024_element_34\")>,\n",
       " <selenium.webdriver.remote.webelement.WebElement (session=\"6409b3b03fa8c352f647964a27027d8c\", element=\"2D4F2D574277F61E1DEBA07D6CED4024_element_35\")>,\n",
       " <selenium.webdriver.remote.webelement.WebElement (session=\"6409b3b03fa8c352f647964a27027d8c\", element=\"2D4F2D574277F61E1DEBA07D6CED4024_element_36\")>,\n",
       " <selenium.webdriver.remote.webelement.WebElement (session=\"6409b3b03fa8c352f647964a27027d8c\", element=\"2D4F2D574277F61E1DEBA07D6CED4024_element_37\")>,\n",
       " <selenium.webdriver.remote.webelement.WebElement (session=\"6409b3b03fa8c352f647964a27027d8c\", element=\"2D4F2D574277F61E1DEBA07D6CED4024_element_38\")>,\n",
       " <selenium.webdriver.remote.webelement.WebElement (session=\"6409b3b03fa8c352f647964a27027d8c\", element=\"2D4F2D574277F61E1DEBA07D6CED4024_element_39\")>,\n",
       " <selenium.webdriver.remote.webelement.WebElement (session=\"6409b3b03fa8c352f647964a27027d8c\", element=\"2D4F2D574277F61E1DEBA07D6CED4024_element_40\")>,\n",
       " <selenium.webdriver.remote.webelement.WebElement (session=\"6409b3b03fa8c352f647964a27027d8c\", element=\"2D4F2D574277F61E1DEBA07D6CED4024_element_41\")>,\n",
       " <selenium.webdriver.remote.webelement.WebElement (session=\"6409b3b03fa8c352f647964a27027d8c\", element=\"2D4F2D574277F61E1DEBA07D6CED4024_element_42\")>,\n",
       " <selenium.webdriver.remote.webelement.WebElement (session=\"6409b3b03fa8c352f647964a27027d8c\", element=\"2D4F2D574277F61E1DEBA07D6CED4024_element_43\")>,\n",
       " <selenium.webdriver.remote.webelement.WebElement (session=\"6409b3b03fa8c352f647964a27027d8c\", element=\"2D4F2D574277F61E1DEBA07D6CED4024_element_44\")>,\n",
       " <selenium.webdriver.remote.webelement.WebElement (session=\"6409b3b03fa8c352f647964a27027d8c\", element=\"2D4F2D574277F61E1DEBA07D6CED4024_element_45\")>,\n",
       " <selenium.webdriver.remote.webelement.WebElement (session=\"6409b3b03fa8c352f647964a27027d8c\", element=\"2D4F2D574277F61E1DEBA07D6CED4024_element_46\")>,\n",
       " <selenium.webdriver.remote.webelement.WebElement (session=\"6409b3b03fa8c352f647964a27027d8c\", element=\"2D4F2D574277F61E1DEBA07D6CED4024_element_47\")>,\n",
       " <selenium.webdriver.remote.webelement.WebElement (session=\"6409b3b03fa8c352f647964a27027d8c\", element=\"2D4F2D574277F61E1DEBA07D6CED4024_element_48\")>,\n",
       " <selenium.webdriver.remote.webelement.WebElement (session=\"6409b3b03fa8c352f647964a27027d8c\", element=\"2D4F2D574277F61E1DEBA07D6CED4024_element_49\")>]"
      ]
     },
     "execution_count": 9,
     "metadata": {},
     "output_type": "execute_result"
    }
   ],
   "source": [
    "songs"
   ]
  },
  {
   "cell_type": "code",
   "execution_count": 10,
   "id": "277e0332",
   "metadata": {},
   "outputs": [
    {
     "name": "stdout",
     "output_type": "stream",
     "text": [
      "Cruel Summer\n",
      "Lovin On Me\n",
      "Paint The Town Red\n",
      "greedy\n",
      "Snooze\n",
      "Strangers\n",
      "Standing Next to You\n",
      "Water\n",
      "vampire\n",
      "What Was I Made For? [From The Motion Picture \"Barbie\"]\n",
      "MONACO\n",
      "Calm Down (with Selena Gomez)\n",
      "Agora Hills\n",
      "Popular (with Playboi Carti & Madonna) - The Idol Vol. 1 (Music from the HBO Original Series)\n",
      "Feather\n",
      "Stick Season\n",
      "Houdini\n",
      "Seven (feat. Latto) (Explicit Ver.)\n",
      "Lace It (with Eminem & benny blanco)\n",
      "I Remember Everything (feat. Kacey Musgraves)\n",
      "Lose Control\n",
      "My Love Mine All Mine\n",
      "Kill Bill\n",
      "Surround Sound (feat. 21 Savage & Baby Tate)\n",
      "FTCU\n"
     ]
    }
   ],
   "source": [
    "# Assuming songs is a list of WebElement objects\n",
    "for song in songs:\n",
    "    song_text = song.text\n",
    "    print(song_text)\n"
   ]
  },
  {
   "cell_type": "markdown",
   "id": "c0c7000c",
   "metadata": {},
   "source": [
    "# The main scrapping code starts here."
   ]
  },
  {
   "cell_type": "code",
   "execution_count": 11,
   "id": "9e0646c9",
   "metadata": {},
   "outputs": [],
   "source": [
    "from selenium import webdriver\n",
    "from selenium.webdriver.chrome.options import Options\n",
    "from selenium.webdriver.common.by import By\n",
    "from selenium.webdriver.support.ui import WebDriverWait\n",
    "from selenium.webdriver.support import expected_conditions as EC\n",
    "\n",
    "# Enable headless mode in Selenium\n",
    "options = Options()\n",
    "options.add_argument('--headless=new')  # Uncomment this line to use headless browser\n",
    "\n",
    "# Initialize an instance of the Chrome driver (browser)\n",
    "driver = webdriver.Chrome(options=options)\n",
    "\n",
    "# Visit your target site\n",
    "driver.get('https://open.spotify.com/')\n",
    "\n",
    "# Fetch all the links of playlists present on the home page\n",
    "links = driver.find_elements(By.CLASS_NAME, 'Nqa6Cw3RkDMV8QnYreTr')\n",
    "links_list = []  \n",
    "\n",
    "for link in links:\n",
    "    links_list.append(link.get_attribute(\"href\"))\n",
    "\n",
    "# Close the initial driver as it's not needed anymore\n",
    "#driver.quit() # uncomment this if want"
   ]
  },
  {
   "cell_type": "code",
   "execution_count": 12,
   "id": "19bdd251",
   "metadata": {},
   "outputs": [
    {
     "data": {
      "text/plain": [
       "[]"
      ]
     },
     "execution_count": 12,
     "metadata": {},
     "output_type": "execute_result"
    }
   ],
   "source": [
    "links_list"
   ]
  },
  {
   "cell_type": "code",
   "execution_count": 13,
   "id": "ccba18b8",
   "metadata": {},
   "outputs": [],
   "source": [
    "def get_song(driver1):\n",
    "    try:\n",
    "        # Extract songs from the playlist page\n",
    "        songs = driver1.find_elements(By.XPATH, '//a[@class=\"t_yrXoUO3qGsJS4Y6iXX\"]/div')\n",
    "     \n",
    "    except AttributeError:\n",
    "        songs = []\n",
    "        \n",
    "\n",
    "    return songs\n",
    "\n",
    "def get_playlist(driver1):\n",
    "    try:\n",
    "        # Extract playlist \n",
    "        playlists = driver1.find_elements(By.XPATH, '//span[@class=\"rEN7ncpaUeSGL9z0NGQR\"]/h1')\n",
    "        \n",
    "    except AttributeError:\n",
    "        playlists=[]\n",
    "        \n",
    "    return playlists\n",
    "\n",
    "def get_singer(driver1):\n",
    "    try:\n",
    "        #Extract singer\n",
    "        singers = driver1.find_elements(By.XPATH, '//div[@class=\"Type__TypeElement-sc-goli3j-0 bGROfl\"]/a[1]')\n",
    "        \n",
    "    except AttributeError:\n",
    "        singers=[]\n",
    "        \n",
    "    return singers\n",
    "\n",
    "def get_album(driver1):\n",
    "    try:\n",
    "        #Extract singer\n",
    "        albums = driver1.find_elements(By.XPATH, '//span[@class=\"Type__TypeElement-sc-goli3j-0 ieTwfQ\"]/a')\n",
    "        \n",
    "    except AttributeError:\n",
    "        albums=[]\n",
    "        \n",
    "    return albums\n",
    "\n",
    "def get_song_duration(driver1):\n",
    "    try:\n",
    "        #Extract singer\n",
    "        song_durations = driver1.find_elements(By.XPATH, '//div[@class=\"Type__TypeElement-sc-goli3j-0 bDHxRN Btg2qHSuepFGBG6X0yEN\"]')\n",
    "        \n",
    "    except AttributeError:\n",
    "        song_durations=[]\n",
    "        \n",
    "    return song_durations\n"
   ]
  },
  {
   "cell_type": "code",
   "execution_count": 14,
   "id": "d1b49262",
   "metadata": {},
   "outputs": [],
   "source": [
    "# we are storing the data in dictionary of list so that we can change it into the dataframe later\n",
    "d = {\"playlist\":[], \"song_name\":[], \"singer\":[], \"album\":[],\"song_duration\":[]}\n",
    "\n",
    "# Loop over the link of playlist\n",
    "for link in links_list:\n",
    "    # Initialize an instance of the Chrome driver (browser)\n",
    "    driver1 = webdriver.Chrome(options=options)\n",
    "        \n",
    "    # Visit the first playlist link\n",
    "    driver1.get(link)\n",
    "        \n",
    "    # Wait for the songs to be present on the page\n",
    "    element = WebDriverWait(driver1,60).until(\n",
    "        EC.presence_of_element_located((By.ID, 'main'))\n",
    "    )\n",
    "          \n",
    "    # Function calls to extract information for songs\n",
    "    for song in get_song(driver1):\n",
    "        d['song_name'].append(song.text)\n",
    "        length=len(get_song(driver1))\n",
    "\n",
    "    for playlist in get_playlist(driver1):\n",
    "        for i in range(length):\n",
    "            d['playlist'].append(playlist.text)\n",
    "    \n",
    "    for singer in get_singer(driver1):\n",
    "        d['singer'].append(singer.text)\n",
    "    \n",
    "    for album in get_album(driver1):\n",
    "        d['album'].append(album.text)\n",
    "        \n",
    "    for song_duration in get_song_duration(driver1):\n",
    "        d['song_duration'].append(song_duration.text)\n",
    "        \n"
   ]
  },
  {
   "cell_type": "code",
   "execution_count": 15,
   "id": "4583351e",
   "metadata": {},
   "outputs": [
    {
     "name": "stdout",
     "output_type": "stream",
     "text": [
      "The length of the list for key 'playlist' is: 0\n",
      "The length of the list for key 'song_name' is: 0\n",
      "The length of the list for key 'singer' is: 0\n",
      "The length of the list for key 'album' is: 0\n",
      "The length of the list for key 'song_duration' is: 0\n"
     ]
    }
   ],
   "source": [
    "for key, value in d.items():\n",
    "    length_of_list = len(value)\n",
    "    print(f\"The length of the list for key '{key}' is: {length_of_list}\")"
   ]
  },
  {
   "cell_type": "code",
   "execution_count": 16,
   "id": "a5637d61",
   "metadata": {},
   "outputs": [
    {
     "data": {
      "text/plain": [
       "[]"
      ]
     },
     "execution_count": 16,
     "metadata": {},
     "output_type": "execute_result"
    }
   ],
   "source": [
    "d['playlist']"
   ]
  },
  {
   "cell_type": "code",
   "execution_count": 17,
   "id": "e39437f1",
   "metadata": {},
   "outputs": [],
   "source": [
    "import pandas as pd\n",
    "# to change data stored in dictionary to dataframe\n",
    "spotify_df = pd.DataFrame.from_dict(d)"
   ]
  },
  {
   "cell_type": "code",
   "execution_count": 18,
   "id": "b8dc191a",
   "metadata": {},
   "outputs": [
    {
     "data": {
      "text/html": [
       "<div>\n",
       "<style scoped>\n",
       "    .dataframe tbody tr th:only-of-type {\n",
       "        vertical-align: middle;\n",
       "    }\n",
       "\n",
       "    .dataframe tbody tr th {\n",
       "        vertical-align: top;\n",
       "    }\n",
       "\n",
       "    .dataframe thead th {\n",
       "        text-align: right;\n",
       "    }\n",
       "</style>\n",
       "<table border=\"1\" class=\"dataframe\">\n",
       "  <thead>\n",
       "    <tr style=\"text-align: right;\">\n",
       "      <th></th>\n",
       "      <th>playlist</th>\n",
       "      <th>song_name</th>\n",
       "      <th>singer</th>\n",
       "      <th>album</th>\n",
       "      <th>song_duration</th>\n",
       "    </tr>\n",
       "  </thead>\n",
       "  <tbody>\n",
       "  </tbody>\n",
       "</table>\n",
       "</div>"
      ],
      "text/plain": [
       "Empty DataFrame\n",
       "Columns: [playlist, song_name, singer, album, song_duration]\n",
       "Index: []"
      ]
     },
     "execution_count": 18,
     "metadata": {},
     "output_type": "execute_result"
    }
   ],
   "source": [
    "spotify_df"
   ]
  },
  {
   "cell_type": "code",
   "execution_count": 19,
   "id": "3cf10229",
   "metadata": {},
   "outputs": [],
   "source": [
    "# to save the data in csv file\n",
    "spotify_df.to_csv(\"spotify_data.csv\", header=True, index=False)"
   ]
  },
  {
   "cell_type": "markdown",
   "id": "3e92cbe2",
   "metadata": {},
   "source": [
    "# END"
   ]
  }
 ],
 "metadata": {
  "kernelspec": {
   "display_name": "Python 3 (ipykernel)",
   "language": "python",
   "name": "python3"
  },
  "language_info": {
   "codemirror_mode": {
    "name": "ipython",
    "version": 3
   },
   "file_extension": ".py",
   "mimetype": "text/x-python",
   "name": "python",
   "nbconvert_exporter": "python",
   "pygments_lexer": "ipython3",
   "version": "3.11.5"
  }
 },
 "nbformat": 4,
 "nbformat_minor": 5
}
